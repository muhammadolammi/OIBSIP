{
 "cells": [
  {
   "cell_type": "markdown",
   "id": "add7fa62-922e-46f8-bb8c-64807fac65b7",
   "metadata": {},
   "source": [
    "## Imports"
   ]
  },
  {
   "cell_type": "code",
   "execution_count": 63,
   "id": "19c27dab-ab71-4ab5-b20b-05f8fcb314e8",
   "metadata": {},
   "outputs": [],
   "source": [
    "import pandas as pd\n",
    "import numpy as np\n",
    "import tensorflow as tf\n",
    "import matplotlib.pyplot as plt\n",
    "from sklearn.model_selection import train_test_split\n",
    "from sklearn.metrics import accuracy_score\n",
    "\n"
   ]
  },
  {
   "cell_type": "markdown",
   "id": "51157a65-b2d4-457c-a407-331bab7e766c",
   "metadata": {},
   "source": [
    "### load the data"
   ]
  },
  {
   "cell_type": "code",
   "execution_count": 3,
   "id": "794ddeda-47b2-4720-83e3-0d4855729ec5",
   "metadata": {},
   "outputs": [
    {
     "data": {
      "text/plain": [
       "NpzFile 'processed_data.npz' with keys: x, y"
      ]
     },
     "execution_count": 3,
     "metadata": {},
     "output_type": "execute_result"
    }
   ],
   "source": [
    "data = np.load('processed_data.npz')\n",
    "data"
   ]
  },
  {
   "cell_type": "code",
   "execution_count": 4,
   "id": "507f5d6b-0373-4dbd-9a3d-f54a181e9e57",
   "metadata": {},
   "outputs": [
    {
     "name": "stdout",
     "output_type": "stream",
     "text": [
      "X shape:  (5572, 8038)\n",
      "y shape:  (5572,)\n"
     ]
    }
   ],
   "source": [
    "X = data[\"x\"]\n",
    "y = data[\"y\"]\n",
    "print(\"X shape: \", X.shape)\n",
    "print(\"y shape: \", y.shape)"
   ]
  },
  {
   "cell_type": "code",
   "execution_count": 5,
   "id": "329ac69b-3bda-4e81-9c45-b6775bb5f0b4",
   "metadata": {},
   "outputs": [],
   "source": [
    "## split x into train and test\n",
    "x_train, x_test, y_train , y_test = train_test_split(X, y,  test_size=0.2, random_state=365)\n",
    "## take 10 percent of the train variable as validation varibles\n",
    "x_train, x_validation, y_train, y_validation = train_test_split(x_train, y_train,  test_size=0.1, random_state=365)"
   ]
  },
  {
   "cell_type": "code",
   "execution_count": 6,
   "id": "0299161d-4681-4999-bec0-109107d76f5a",
   "metadata": {},
   "outputs": [
    {
     "name": "stdout",
     "output_type": "stream",
     "text": [
      "x_train shape:  (4011, 8038)\n",
      "x_test shape:  (1115, 8038)\n",
      "x_validation shape:  (446, 8038)\n",
      "y_train shape:  (4011,)\n",
      "y_test shape:  (1115,)\n",
      "y_validation shape:  (446,)\n"
     ]
    }
   ],
   "source": [
    "print(\"x_train shape: \", x_train.shape)\n",
    "print(\"x_test shape: \", x_test.shape)\n",
    "print(\"x_validation shape: \", x_validation.shape)\n",
    "print(\"y_train shape: \", y_train.shape)\n",
    "print(\"y_test shape: \", y_test.shape)\n",
    "print(\"y_validation shape: \", y_validation.shape)"
   ]
  },
  {
   "cell_type": "code",
   "execution_count": 7,
   "id": "b4ae9abe-ab6a-4a27-b949-8d50a55c9c7f",
   "metadata": {},
   "outputs": [],
   "source": [
    "## Model\n",
    "## Objective Function (mean squared error)\n",
    "## Optimization Algorithm (SGD)"
   ]
  },
  {
   "cell_type": "code",
   "execution_count": 25,
   "id": "bcd20759-4210-4413-80a5-9bbae00c0674",
   "metadata": {},
   "outputs": [],
   "source": [
    "input_size = 8038\n",
    "output_size=1\n",
    "hidden_layer_size=250\n",
    "model = tf.keras.Sequential([\n",
    "    tf.keras.layers.Input(shape=(input_size,)),\n",
    "    tf.keras.layers.Flatten(),\n",
    "    tf.keras.layers.Dense(hidden_layer_size, activation='relu'),\n",
    "    tf.keras.layers.Dense(hidden_layer_size, activation='tanh'),\n",
    "    tf.keras.layers.Dense(output_size, activation='sigmoid')\n",
    "])\n",
    "NUM_OF_EPOCHS=100\n",
    "BATCH_SIZE = 32\n",
    "\n",
    "# Create training dataset\n",
    "train_dataset = tf.data.Dataset.from_tensor_slices((x_train, y_train))\n",
    "train_dataset = train_dataset.shuffle(buffer_size=1000).batch(BATCH_SIZE)\n",
    "\n",
    "# Validation dataset\n",
    "val_dataset = tf.data.Dataset.from_tensor_slices((x_validation, y_validation))\n",
    "val_dataset = val_dataset.batch(BATCH_SIZE)\n",
    "# Test dataset\n",
    "test_dataset = tf.data.Dataset.from_tensor_slices((x_test, y_test))\n",
    "test_dataset = test_dataset.batch(BATCH_SIZE)\n",
    "\n",
    "\n",
    "model.compile(optimizer=\"sgd\", loss='mean_squared_error', metrics=[\"accuracy\"])"
   ]
  },
  {
   "cell_type": "markdown",
   "id": "acb89c12-3eef-4719-aa6d-73c3b289528b",
   "metadata": {},
   "source": [
    "## Train model"
   ]
  },
  {
   "cell_type": "code",
   "execution_count": 27,
   "id": "99d2a169-5783-44fc-85a5-b0fba03311bc",
   "metadata": {},
   "outputs": [
    {
     "name": "stdout",
     "output_type": "stream",
     "text": [
      "Epoch 1/100\n",
      "126/126 - 2s - 13ms/step - accuracy: 0.8340 - loss: 0.2017 - val_accuracy: 0.8946 - val_loss: 0.1557\n",
      "Epoch 2/100\n",
      "126/126 - 1s - 9ms/step - accuracy: 0.8644 - loss: 0.1471 - val_accuracy: 0.8946 - val_loss: 0.1210\n",
      "Epoch 3/100\n",
      "126/126 - 1s - 8ms/step - accuracy: 0.8644 - loss: 0.1277 - val_accuracy: 0.8946 - val_loss: 0.1068\n",
      "Epoch 4/100\n",
      "126/126 - 1s - 8ms/step - accuracy: 0.8644 - loss: 0.1193 - val_accuracy: 0.8946 - val_loss: 0.0998\n",
      "Epoch 5/100\n",
      "126/126 - 1s - 8ms/step - accuracy: 0.8644 - loss: 0.1148 - val_accuracy: 0.8946 - val_loss: 0.0956\n",
      "Epoch 6/100\n",
      "126/126 - 1s - 8ms/step - accuracy: 0.8644 - loss: 0.1118 - val_accuracy: 0.8946 - val_loss: 0.0928\n",
      "Epoch 7/100\n",
      "126/126 - 1s - 8ms/step - accuracy: 0.8644 - loss: 0.1095 - val_accuracy: 0.8946 - val_loss: 0.0906\n",
      "Epoch 8/100\n",
      "126/126 - 1s - 9ms/step - accuracy: 0.8644 - loss: 0.1072 - val_accuracy: 0.8946 - val_loss: 0.0886\n",
      "Epoch 9/100\n",
      "126/126 - 1s - 9ms/step - accuracy: 0.8644 - loss: 0.1050 - val_accuracy: 0.8946 - val_loss: 0.0866\n",
      "Epoch 10/100\n",
      "126/126 - 1s - 9ms/step - accuracy: 0.8644 - loss: 0.1025 - val_accuracy: 0.8946 - val_loss: 0.0846\n",
      "Epoch 11/100\n",
      "126/126 - 1s - 8ms/step - accuracy: 0.8644 - loss: 0.0997 - val_accuracy: 0.8946 - val_loss: 0.0823\n",
      "Epoch 12/100\n",
      "126/126 - 1s - 9ms/step - accuracy: 0.8644 - loss: 0.0964 - val_accuracy: 0.8946 - val_loss: 0.0798\n",
      "Epoch 13/100\n",
      "126/126 - 1s - 8ms/step - accuracy: 0.8644 - loss: 0.0927 - val_accuracy: 0.8946 - val_loss: 0.0769\n",
      "Epoch 14/100\n",
      "126/126 - 1s - 8ms/step - accuracy: 0.8679 - loss: 0.0884 - val_accuracy: 0.8991 - val_loss: 0.0736\n",
      "Epoch 15/100\n",
      "126/126 - 1s - 8ms/step - accuracy: 0.8716 - loss: 0.0836 - val_accuracy: 0.9013 - val_loss: 0.0700\n",
      "Epoch 16/100\n",
      "126/126 - 1s - 8ms/step - accuracy: 0.8803 - loss: 0.0784 - val_accuracy: 0.9081 - val_loss: 0.0661\n",
      "Epoch 17/100\n",
      "126/126 - 1s - 8ms/step - accuracy: 0.8943 - loss: 0.0731 - val_accuracy: 0.9081 - val_loss: 0.0621\n",
      "Epoch 18/100\n",
      "126/126 - 1s - 8ms/step - accuracy: 0.9095 - loss: 0.0678 - val_accuracy: 0.9260 - val_loss: 0.0582\n",
      "Epoch 19/100\n",
      "126/126 - 1s - 8ms/step - accuracy: 0.9175 - loss: 0.0628 - val_accuracy: 0.9350 - val_loss: 0.0544\n",
      "Epoch 20/100\n",
      "126/126 - 1s - 8ms/step - accuracy: 0.9284 - loss: 0.0583 - val_accuracy: 0.9372 - val_loss: 0.0509\n",
      "Epoch 21/100\n",
      "126/126 - 1s - 8ms/step - accuracy: 0.9342 - loss: 0.0542 - val_accuracy: 0.9462 - val_loss: 0.0477\n",
      "Epoch 22/100\n",
      "126/126 - 1s - 8ms/step - accuracy: 0.9427 - loss: 0.0505 - val_accuracy: 0.9507 - val_loss: 0.0449\n",
      "Epoch 23/100\n",
      "126/126 - 1s - 9ms/step - accuracy: 0.9466 - loss: 0.0473 - val_accuracy: 0.9529 - val_loss: 0.0422\n",
      "Epoch 24/100\n",
      "126/126 - 1s - 9ms/step - accuracy: 0.9501 - loss: 0.0445 - val_accuracy: 0.9552 - val_loss: 0.0399\n",
      "Epoch 25/100\n",
      "126/126 - 1s - 8ms/step - accuracy: 0.9529 - loss: 0.0420 - val_accuracy: 0.9552 - val_loss: 0.0379\n",
      "Epoch 26/100\n",
      "126/126 - 1s - 8ms/step - accuracy: 0.9556 - loss: 0.0398 - val_accuracy: 0.9552 - val_loss: 0.0360\n",
      "Epoch 27/100\n",
      "126/126 - 1s - 8ms/step - accuracy: 0.9569 - loss: 0.0378 - val_accuracy: 0.9596 - val_loss: 0.0343\n",
      "Epoch 28/100\n",
      "126/126 - 1s - 8ms/step - accuracy: 0.9596 - loss: 0.0360 - val_accuracy: 0.9596 - val_loss: 0.0328\n",
      "Epoch 29/100\n",
      "126/126 - 1s - 8ms/step - accuracy: 0.9616 - loss: 0.0344 - val_accuracy: 0.9619 - val_loss: 0.0314\n",
      "Epoch 30/100\n",
      "126/126 - 1s - 8ms/step - accuracy: 0.9636 - loss: 0.0330 - val_accuracy: 0.9686 - val_loss: 0.0301\n",
      "Epoch 31/100\n",
      "126/126 - 1s - 8ms/step - accuracy: 0.9661 - loss: 0.0317 - val_accuracy: 0.9686 - val_loss: 0.0290\n",
      "Epoch 32/100\n",
      "126/126 - 1s - 9ms/step - accuracy: 0.9676 - loss: 0.0304 - val_accuracy: 0.9709 - val_loss: 0.0279\n",
      "Epoch 33/100\n",
      "126/126 - 1s - 9ms/step - accuracy: 0.9688 - loss: 0.0293 - val_accuracy: 0.9709 - val_loss: 0.0270\n",
      "Epoch 34/100\n",
      "126/126 - 1s - 8ms/step - accuracy: 0.9703 - loss: 0.0283 - val_accuracy: 0.9709 - val_loss: 0.0260\n",
      "Epoch 35/100\n",
      "126/126 - 1s - 8ms/step - accuracy: 0.9703 - loss: 0.0274 - val_accuracy: 0.9731 - val_loss: 0.0252\n",
      "Epoch 36/100\n",
      "126/126 - 1s - 8ms/step - accuracy: 0.9716 - loss: 0.0265 - val_accuracy: 0.9731 - val_loss: 0.0244\n",
      "Epoch 37/100\n",
      "126/126 - 1s - 9ms/step - accuracy: 0.9733 - loss: 0.0257 - val_accuracy: 0.9731 - val_loss: 0.0237\n",
      "Epoch 38/100\n",
      "126/126 - 1s - 9ms/step - accuracy: 0.9738 - loss: 0.0249 - val_accuracy: 0.9731 - val_loss: 0.0230\n",
      "Epoch 39/100\n",
      "126/126 - 1s - 8ms/step - accuracy: 0.9746 - loss: 0.0242 - val_accuracy: 0.9731 - val_loss: 0.0224\n",
      "Epoch 40/100\n",
      "126/126 - 1s - 8ms/step - accuracy: 0.9746 - loss: 0.0235 - val_accuracy: 0.9709 - val_loss: 0.0218\n",
      "Epoch 41/100\n",
      "126/126 - 1s - 8ms/step - accuracy: 0.9758 - loss: 0.0229 - val_accuracy: 0.9709 - val_loss: 0.0212\n",
      "Epoch 42/100\n",
      "126/126 - 1s - 8ms/step - accuracy: 0.9756 - loss: 0.0223 - val_accuracy: 0.9731 - val_loss: 0.0207\n",
      "Epoch 43/100\n",
      "126/126 - 1s - 9ms/step - accuracy: 0.9776 - loss: 0.0217 - val_accuracy: 0.9753 - val_loss: 0.0203\n",
      "Epoch 44/100\n",
      "126/126 - 1s - 8ms/step - accuracy: 0.9781 - loss: 0.0212 - val_accuracy: 0.9753 - val_loss: 0.0198\n",
      "Epoch 45/100\n",
      "126/126 - 1s - 8ms/step - accuracy: 0.9783 - loss: 0.0207 - val_accuracy: 0.9776 - val_loss: 0.0194\n",
      "Epoch 46/100\n",
      "126/126 - 1s - 9ms/step - accuracy: 0.9786 - loss: 0.0202 - val_accuracy: 0.9798 - val_loss: 0.0190\n",
      "Epoch 47/100\n",
      "126/126 - 1s - 9ms/step - accuracy: 0.9786 - loss: 0.0197 - val_accuracy: 0.9821 - val_loss: 0.0186\n",
      "Epoch 48/100\n",
      "126/126 - 1s - 8ms/step - accuracy: 0.9791 - loss: 0.0193 - val_accuracy: 0.9843 - val_loss: 0.0182\n",
      "Epoch 49/100\n",
      "126/126 - 1s - 8ms/step - accuracy: 0.9796 - loss: 0.0188 - val_accuracy: 0.9843 - val_loss: 0.0178\n",
      "Epoch 50/100\n",
      "126/126 - 1s - 8ms/step - accuracy: 0.9801 - loss: 0.0184 - val_accuracy: 0.9843 - val_loss: 0.0175\n",
      "Epoch 51/100\n",
      "126/126 - 1s - 9ms/step - accuracy: 0.9808 - loss: 0.0180 - val_accuracy: 0.9843 - val_loss: 0.0172\n",
      "Epoch 52/100\n",
      "126/126 - 1s - 9ms/step - accuracy: 0.9811 - loss: 0.0177 - val_accuracy: 0.9843 - val_loss: 0.0169\n",
      "Epoch 53/100\n",
      "126/126 - 1s - 8ms/step - accuracy: 0.9818 - loss: 0.0173 - val_accuracy: 0.9843 - val_loss: 0.0166\n",
      "Epoch 54/100\n",
      "126/126 - 1s - 8ms/step - accuracy: 0.9823 - loss: 0.0169 - val_accuracy: 0.9843 - val_loss: 0.0164\n",
      "Epoch 55/100\n",
      "126/126 - 1s - 9ms/step - accuracy: 0.9833 - loss: 0.0166 - val_accuracy: 0.9843 - val_loss: 0.0161\n",
      "Epoch 56/100\n",
      "126/126 - 1s - 8ms/step - accuracy: 0.9833 - loss: 0.0163 - val_accuracy: 0.9843 - val_loss: 0.0158\n",
      "Epoch 57/100\n",
      "126/126 - 1s - 8ms/step - accuracy: 0.9833 - loss: 0.0160 - val_accuracy: 0.9843 - val_loss: 0.0156\n",
      "Epoch 58/100\n",
      "126/126 - 1s - 8ms/step - accuracy: 0.9840 - loss: 0.0157 - val_accuracy: 0.9843 - val_loss: 0.0154\n",
      "Epoch 59/100\n",
      "126/126 - 1s - 9ms/step - accuracy: 0.9840 - loss: 0.0154 - val_accuracy: 0.9843 - val_loss: 0.0152\n",
      "Epoch 60/100\n",
      "126/126 - 1s - 8ms/step - accuracy: 0.9850 - loss: 0.0151 - val_accuracy: 0.9865 - val_loss: 0.0150\n",
      "Epoch 61/100\n",
      "126/126 - 1s - 8ms/step - accuracy: 0.9855 - loss: 0.0148 - val_accuracy: 0.9865 - val_loss: 0.0148\n",
      "Epoch 62/100\n",
      "126/126 - 1s - 8ms/step - accuracy: 0.9858 - loss: 0.0145 - val_accuracy: 0.9865 - val_loss: 0.0146\n",
      "Epoch 63/100\n",
      "126/126 - 1s - 8ms/step - accuracy: 0.9860 - loss: 0.0143 - val_accuracy: 0.9865 - val_loss: 0.0144\n",
      "Epoch 64/100\n",
      "126/126 - 1s - 8ms/step - accuracy: 0.9873 - loss: 0.0140 - val_accuracy: 0.9865 - val_loss: 0.0142\n",
      "Epoch 65/100\n",
      "126/126 - 1s - 9ms/step - accuracy: 0.9878 - loss: 0.0138 - val_accuracy: 0.9865 - val_loss: 0.0140\n",
      "Epoch 66/100\n",
      "126/126 - 1s - 9ms/step - accuracy: 0.9883 - loss: 0.0136 - val_accuracy: 0.9865 - val_loss: 0.0139\n",
      "Epoch 67/100\n",
      "126/126 - 1s - 8ms/step - accuracy: 0.9890 - loss: 0.0133 - val_accuracy: 0.9865 - val_loss: 0.0137\n",
      "Epoch 68/100\n",
      "126/126 - 1s - 8ms/step - accuracy: 0.9890 - loss: 0.0131 - val_accuracy: 0.9865 - val_loss: 0.0135\n",
      "Epoch 69/100\n",
      "126/126 - 1s - 8ms/step - accuracy: 0.9890 - loss: 0.0129 - val_accuracy: 0.9865 - val_loss: 0.0134\n",
      "Epoch 70/100\n",
      "126/126 - 1s - 9ms/step - accuracy: 0.9893 - loss: 0.0127 - val_accuracy: 0.9865 - val_loss: 0.0133\n",
      "Epoch 71/100\n",
      "126/126 - 1s - 8ms/step - accuracy: 0.9895 - loss: 0.0125 - val_accuracy: 0.9865 - val_loss: 0.0131\n",
      "Epoch 72/100\n",
      "126/126 - 1s - 8ms/step - accuracy: 0.9895 - loss: 0.0123 - val_accuracy: 0.9865 - val_loss: 0.0130\n",
      "Epoch 73/100\n",
      "126/126 - 1s - 8ms/step - accuracy: 0.9898 - loss: 0.0121 - val_accuracy: 0.9865 - val_loss: 0.0129\n",
      "Epoch 74/100\n",
      "126/126 - 1s - 8ms/step - accuracy: 0.9898 - loss: 0.0120 - val_accuracy: 0.9865 - val_loss: 0.0128\n",
      "Epoch 75/100\n",
      "126/126 - 1s - 8ms/step - accuracy: 0.9898 - loss: 0.0118 - val_accuracy: 0.9865 - val_loss: 0.0126\n",
      "Epoch 76/100\n",
      "126/126 - 1s - 8ms/step - accuracy: 0.9898 - loss: 0.0116 - val_accuracy: 0.9865 - val_loss: 0.0125\n",
      "Epoch 77/100\n",
      "126/126 - 1s - 8ms/step - accuracy: 0.9900 - loss: 0.0115 - val_accuracy: 0.9865 - val_loss: 0.0124\n",
      "Epoch 78/100\n",
      "126/126 - 1s - 8ms/step - accuracy: 0.9903 - loss: 0.0113 - val_accuracy: 0.9865 - val_loss: 0.0123\n",
      "Epoch 79/100\n",
      "126/126 - 1s - 9ms/step - accuracy: 0.9905 - loss: 0.0111 - val_accuracy: 0.9865 - val_loss: 0.0122\n",
      "Epoch 80/100\n",
      "126/126 - 1s - 9ms/step - accuracy: 0.9908 - loss: 0.0110 - val_accuracy: 0.9865 - val_loss: 0.0121\n",
      "Epoch 81/100\n",
      "126/126 - 1s - 8ms/step - accuracy: 0.9910 - loss: 0.0108 - val_accuracy: 0.9888 - val_loss: 0.0120\n",
      "Epoch 82/100\n",
      "126/126 - 1s - 8ms/step - accuracy: 0.9915 - loss: 0.0107 - val_accuracy: 0.9888 - val_loss: 0.0119\n",
      "Epoch 83/100\n",
      "126/126 - 1s - 8ms/step - accuracy: 0.9918 - loss: 0.0106 - val_accuracy: 0.9888 - val_loss: 0.0118\n",
      "Epoch 84/100\n",
      "126/126 - 1s - 8ms/step - accuracy: 0.9918 - loss: 0.0104 - val_accuracy: 0.9888 - val_loss: 0.0117\n",
      "Epoch 85/100\n",
      "126/126 - 1s - 8ms/step - accuracy: 0.9918 - loss: 0.0103 - val_accuracy: 0.9888 - val_loss: 0.0116\n",
      "Epoch 86/100\n",
      "126/126 - 1s - 8ms/step - accuracy: 0.9923 - loss: 0.0102 - val_accuracy: 0.9888 - val_loss: 0.0115\n",
      "Epoch 87/100\n",
      "126/126 - 1s - 8ms/step - accuracy: 0.9923 - loss: 0.0100 - val_accuracy: 0.9888 - val_loss: 0.0114\n",
      "Epoch 88/100\n",
      "126/126 - 1s - 8ms/step - accuracy: 0.9928 - loss: 0.0099 - val_accuracy: 0.9888 - val_loss: 0.0113\n",
      "Epoch 89/100\n",
      "126/126 - 1s - 9ms/step - accuracy: 0.9928 - loss: 0.0098 - val_accuracy: 0.9888 - val_loss: 0.0112\n",
      "Epoch 90/100\n",
      "126/126 - 1s - 9ms/step - accuracy: 0.9928 - loss: 0.0097 - val_accuracy: 0.9888 - val_loss: 0.0112\n",
      "Epoch 91/100\n",
      "126/126 - 1s - 8ms/step - accuracy: 0.9928 - loss: 0.0096 - val_accuracy: 0.9888 - val_loss: 0.0111\n",
      "Epoch 92/100\n",
      "126/126 - 1s - 8ms/step - accuracy: 0.9928 - loss: 0.0095 - val_accuracy: 0.9888 - val_loss: 0.0110\n",
      "Epoch 93/100\n",
      "126/126 - 1s - 9ms/step - accuracy: 0.9928 - loss: 0.0093 - val_accuracy: 0.9888 - val_loss: 0.0110\n",
      "Epoch 94/100\n",
      "126/126 - 1s - 9ms/step - accuracy: 0.9928 - loss: 0.0092 - val_accuracy: 0.9888 - val_loss: 0.0109\n",
      "Epoch 95/100\n",
      "126/126 - 1s - 8ms/step - accuracy: 0.9928 - loss: 0.0091 - val_accuracy: 0.9888 - val_loss: 0.0108\n",
      "Epoch 96/100\n",
      "126/126 - 1s - 8ms/step - accuracy: 0.9928 - loss: 0.0090 - val_accuracy: 0.9888 - val_loss: 0.0107\n",
      "Epoch 97/100\n",
      "126/126 - 1s - 8ms/step - accuracy: 0.9928 - loss: 0.0089 - val_accuracy: 0.9888 - val_loss: 0.0107\n",
      "Epoch 98/100\n",
      "126/126 - 1s - 8ms/step - accuracy: 0.9928 - loss: 0.0088 - val_accuracy: 0.9910 - val_loss: 0.0106\n",
      "Epoch 99/100\n",
      "126/126 - 1s - 8ms/step - accuracy: 0.9928 - loss: 0.0087 - val_accuracy: 0.9910 - val_loss: 0.0106\n",
      "Epoch 100/100\n",
      "126/126 - 1s - 8ms/step - accuracy: 0.9928 - loss: 0.0087 - val_accuracy: 0.9910 - val_loss: 0.0105\n"
     ]
    },
    {
     "data": {
      "text/plain": [
       "<keras.src.callbacks.history.History at 0x13825a8a900>"
      ]
     },
     "execution_count": 27,
     "metadata": {},
     "output_type": "execute_result"
    }
   ],
   "source": [
    "\n",
    "# model.fit(x_train, y_train, epochs=NUM_OF_EPOCHS, validation_data=(x_validation, y_validation) , verbose=2)\n",
    "model.fit(train_dataset, epochs=NUM_OF_EPOCHS, validation_data=val_dataset , verbose=2)"
   ]
  },
  {
   "cell_type": "markdown",
   "id": "5b2204de-3d65-4f99-97b7-33382a7d620f",
   "metadata": {},
   "source": [
    "## Test model"
   ]
  },
  {
   "cell_type": "code",
   "execution_count": 29,
   "id": "778e78b7-830b-40bb-a703-ce63ce510b32",
   "metadata": {},
   "outputs": [
    {
     "name": "stdout",
     "output_type": "stream",
     "text": [
      "\u001b[1m35/35\u001b[0m \u001b[32m━━━━━━━━━━━━━━━━━━━━\u001b[0m\u001b[37m\u001b[0m \u001b[1m0s\u001b[0m 5ms/step\n"
     ]
    }
   ],
   "source": [
    "y_pred = model.predict(test_dataset)"
   ]
  },
  {
   "cell_type": "code",
   "execution_count": 99,
   "id": "dd0627e0-1101-4e43-a4dd-8a05801162ae",
   "metadata": {},
   "outputs": [],
   "source": [
    "## since predict gives the probability of the output being one, we can round it up like this \n",
    "y_pred = np.squeeze((y_pred > 0.5).astype(np.int64))"
   ]
  },
  {
   "cell_type": "code",
   "execution_count": 117,
   "id": "c8f40734-ced4-4007-8c8b-07d808df659f",
   "metadata": {},
   "outputs": [
    {
     "name": "stdout",
     "output_type": "stream",
     "text": [
      "Model Test Accuracy:  0.9811659192825112\n"
     ]
    }
   ],
   "source": [
    "print(\"Model Test Accuracy: \", accuracy_score(y_pred, y_test))"
   ]
  },
  {
   "cell_type": "code",
   "execution_count": 115,
   "id": "f227bf2a-5735-4217-837c-8d467bab0ad9",
   "metadata": {},
   "outputs": [
    {
     "name": "stdout",
     "output_type": "stream",
     "text": [
      "\u001b[1m35/35\u001b[0m \u001b[32m━━━━━━━━━━━━━━━━━━━━\u001b[0m\u001b[37m\u001b[0m \u001b[1m0s\u001b[0m 5ms/step - accuracy: 0.9792 - loss: 0.0182\n",
      "Test loss: 0.02, Test Accuracy 98.12\n"
     ]
    }
   ],
   "source": [
    "test_loss , test_accuracy = model.evaluate(test_dataset)\n",
    "print('Test loss: {0:.2f}, Test Accuracy {1:.2f}'.format(test_loss,test_accuracy*100))"
   ]
  }
 ],
 "metadata": {
  "kernelspec": {
   "display_name": "Python [conda env:base] *",
   "language": "python",
   "name": "conda-base-py"
  },
  "language_info": {
   "codemirror_mode": {
    "name": "ipython",
    "version": 3
   },
   "file_extension": ".py",
   "mimetype": "text/x-python",
   "name": "python",
   "nbconvert_exporter": "python",
   "pygments_lexer": "ipython3",
   "version": "3.12.7"
  }
 },
 "nbformat": 4,
 "nbformat_minor": 5
}
